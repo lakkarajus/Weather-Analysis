{
 "cells": [
  {
   "cell_type": "markdown",
   "metadata": {},
   "source": [
    "# Weather Analysys  08-13-2023\n",
    "## A Simple Program to illustrate concepts in Data Analysis\n",
    "### The daily temparature data for this program is downloaded from NOAA, National center for environmental information."
    "### Author: Rao S Lakkaraju
   ]
  },
  {
   "cell_type": "code",
   "execution_count": 24,
   "metadata": {},
   "outputs": [],
   "source": [
    "# Regular imports\n",
    "import pandas as pd\n",
    "import numpy as np\n",
    "import matplotlib.pyplot as plt\n",
    "%matplotlib inline"
   ]
  },
  {
   "cell_type": "markdown",
   "metadata": {},
   "source": [
    "### Read the temparature data file"
   ]
  },
  {
   "cell_type": "code",
   "execution_count": 25,
   "metadata": {},
   "outputs": [
    {
     "data": {
      "text/plain": [
       "(365, 6)"
      ]
     },
     "execution_count": 25,
     "metadata": {},
     "output_type": "execute_result"
    }
   ],
   "source": [
    "mydf = pd.read_csv('ohare2022.csv',low_memory=False,sep=',')\n",
    "mydf.shape"
   ]
  },
  {
   "cell_type": "markdown",
   "metadata": {},
   "source": [
    "### Remove Bad Data"
   ]
  },
  {
   "cell_type": "code",
   "execution_count": 26,
   "metadata": {},
   "outputs": [
    {
     "name": "stdout",
     "output_type": "stream",
     "text": [
      "(365, 6)\n"
     ]
    },
    {
     "data": {
      "text/html": [
       "<div>\n",
       "<style scoped>\n",
       "    .dataframe tbody tr th:only-of-type {\n",
       "        vertical-align: middle;\n",
       "    }\n",
       "\n",
       "    .dataframe tbody tr th {\n",
       "        vertical-align: top;\n",
       "    }\n",
       "\n",
       "    .dataframe thead th {\n",
       "        text-align: right;\n",
       "    }\n",
       "</style>\n",
       "<table border=\"1\" class=\"dataframe\">\n",
       "  <thead>\n",
       "    <tr style=\"text-align: right;\">\n",
       "      <th></th>\n",
       "      <th>STATION</th>\n",
       "      <th>NAME</th>\n",
       "      <th>DATE</th>\n",
       "      <th>TAVG</th>\n",
       "      <th>TMAX</th>\n",
       "      <th>TMIN</th>\n",
       "    </tr>\n",
       "  </thead>\n",
       "  <tbody>\n",
       "    <tr>\n",
       "      <th>0</th>\n",
       "      <td>USW00094846</td>\n",
       "      <td>CHICAGO OHARE INTERNATIONAL AIRPORT, IL US</td>\n",
       "      <td>2022-01-01</td>\n",
       "      <td>36</td>\n",
       "      <td>38</td>\n",
       "      <td>24</td>\n",
       "    </tr>\n",
       "    <tr>\n",
       "      <th>1</th>\n",
       "      <td>USW00094846</td>\n",
       "      <td>CHICAGO OHARE INTERNATIONAL AIRPORT, IL US</td>\n",
       "      <td>2022-01-02</td>\n",
       "      <td>24</td>\n",
       "      <td>28</td>\n",
       "      <td>13</td>\n",
       "    </tr>\n",
       "    <tr>\n",
       "      <th>2</th>\n",
       "      <td>USW00094846</td>\n",
       "      <td>CHICAGO OHARE INTERNATIONAL AIRPORT, IL US</td>\n",
       "      <td>2022-01-03</td>\n",
       "      <td>15</td>\n",
       "      <td>22</td>\n",
       "      <td>9</td>\n",
       "    </tr>\n",
       "    <tr>\n",
       "      <th>3</th>\n",
       "      <td>USW00094846</td>\n",
       "      <td>CHICAGO OHARE INTERNATIONAL AIRPORT, IL US</td>\n",
       "      <td>2022-01-04</td>\n",
       "      <td>26</td>\n",
       "      <td>35</td>\n",
       "      <td>22</td>\n",
       "    </tr>\n",
       "    <tr>\n",
       "      <th>4</th>\n",
       "      <td>USW00094846</td>\n",
       "      <td>CHICAGO OHARE INTERNATIONAL AIRPORT, IL US</td>\n",
       "      <td>2022-01-05</td>\n",
       "      <td>24</td>\n",
       "      <td>34</td>\n",
       "      <td>12</td>\n",
       "    </tr>\n",
       "  </tbody>\n",
       "</table>\n",
       "</div>"
      ],
      "text/plain": [
       "       STATION                                        NAME        DATE  TAVG  \\\n",
       "0  USW00094846  CHICAGO OHARE INTERNATIONAL AIRPORT, IL US  2022-01-01    36   \n",
       "1  USW00094846  CHICAGO OHARE INTERNATIONAL AIRPORT, IL US  2022-01-02    24   \n",
       "2  USW00094846  CHICAGO OHARE INTERNATIONAL AIRPORT, IL US  2022-01-03    15   \n",
       "3  USW00094846  CHICAGO OHARE INTERNATIONAL AIRPORT, IL US  2022-01-04    26   \n",
       "4  USW00094846  CHICAGO OHARE INTERNATIONAL AIRPORT, IL US  2022-01-05    24   \n",
       "\n",
       "   TMAX  TMIN  \n",
       "0    38    24  \n",
       "1    28    13  \n",
       "2    22     9  \n",
       "3    35    22  \n",
       "4    34    12  "
      ]
     },
     "execution_count": 26,
     "metadata": {},
     "output_type": "execute_result"
    }
   ],
   "source": [
    "mydf.dropna(axis=0,how='any',inplace=True)\n",
    "mydf = mydf.reset_index(drop=True)\n",
    "print(mydf.shape)\n",
    "mydf.head()"
   ]
  },
  {
   "cell_type": "markdown",
   "metadata": {},
   "source": [
    "### Use datetime function to extract year, month, Day.\n",
    "### Add them as columns in the record"
   ]
  },
  {
   "cell_type": "code",
   "execution_count": 27,
   "metadata": {},
   "outputs": [
    {
     "name": "stdout",
     "output_type": "stream",
     "text": [
      "******* USW00094846 CHICAGO OHARE INTERNATIONAL AIRPORT, IL US year =  2022\n"
     ]
    }
   ],
   "source": [
    "mydf['DATE'] = pd.to_datetime(mydf.DATE)\n",
    "mydf.dtypes\n",
    "mydf['Year'] = mydf.DATE.dt.year\n",
    "mydf['Month'] = mydf.DATE.dt.month\n",
    "mydf['Day'] = mydf.DATE.dt.day\n",
    "station = mydf.STATION[0]\n",
    "Station_name = mydf.NAME[0]\n",
    "year = str(mydf.Year[0])\n",
    "mydf.drop('DATE',axis=1,inplace=True)\n",
    "print('*******',station,Station_name,'year = ', year)"
   ]
  },
  {
   "cell_type": "code",
   "execution_count": 28,
   "metadata": {},
   "outputs": [
    {
     "name": "stdout",
     "output_type": "stream",
     "text": [
      "STATION    object\n",
      "NAME       object\n",
      "TAVG        int64\n",
      "TMAX        int64\n",
      "TMIN        int64\n",
      "Year        int64\n",
      "Month       int64\n",
      "Day         int64\n",
      "dtype: object\n",
      "Index(['STATION', 'NAME', 'TAVG', 'TMAX', 'TMIN', 'Year', 'Month', 'Day'], dtype='object')\n",
      "(365, 8)\n"
     ]
    },
    {
     "data": {
      "text/html": [
       "<div>\n",
       "<style scoped>\n",
       "    .dataframe tbody tr th:only-of-type {\n",
       "        vertical-align: middle;\n",
       "    }\n",
       "\n",
       "    .dataframe tbody tr th {\n",
       "        vertical-align: top;\n",
       "    }\n",
       "\n",
       "    .dataframe thead th {\n",
       "        text-align: right;\n",
       "    }\n",
       "</style>\n",
       "<table border=\"1\" class=\"dataframe\">\n",
       "  <thead>\n",
       "    <tr style=\"text-align: right;\">\n",
       "      <th></th>\n",
       "      <th>STATION</th>\n",
       "      <th>NAME</th>\n",
       "      <th>TAVG</th>\n",
       "      <th>TMAX</th>\n",
       "      <th>TMIN</th>\n",
       "      <th>Year</th>\n",
       "      <th>Month</th>\n",
       "      <th>Day</th>\n",
       "    </tr>\n",
       "  </thead>\n",
       "  <tbody>\n",
       "    <tr>\n",
       "      <th>0</th>\n",
       "      <td>USW00094846</td>\n",
       "      <td>CHICAGO OHARE INTERNATIONAL AIRPORT, IL US</td>\n",
       "      <td>36</td>\n",
       "      <td>38</td>\n",
       "      <td>24</td>\n",
       "      <td>2022</td>\n",
       "      <td>1</td>\n",
       "      <td>1</td>\n",
       "    </tr>\n",
       "    <tr>\n",
       "      <th>1</th>\n",
       "      <td>USW00094846</td>\n",
       "      <td>CHICAGO OHARE INTERNATIONAL AIRPORT, IL US</td>\n",
       "      <td>24</td>\n",
       "      <td>28</td>\n",
       "      <td>13</td>\n",
       "      <td>2022</td>\n",
       "      <td>1</td>\n",
       "      <td>2</td>\n",
       "    </tr>\n",
       "    <tr>\n",
       "      <th>2</th>\n",
       "      <td>USW00094846</td>\n",
       "      <td>CHICAGO OHARE INTERNATIONAL AIRPORT, IL US</td>\n",
       "      <td>15</td>\n",
       "      <td>22</td>\n",
       "      <td>9</td>\n",
       "      <td>2022</td>\n",
       "      <td>1</td>\n",
       "      <td>3</td>\n",
       "    </tr>\n",
       "    <tr>\n",
       "      <th>3</th>\n",
       "      <td>USW00094846</td>\n",
       "      <td>CHICAGO OHARE INTERNATIONAL AIRPORT, IL US</td>\n",
       "      <td>26</td>\n",
       "      <td>35</td>\n",
       "      <td>22</td>\n",
       "      <td>2022</td>\n",
       "      <td>1</td>\n",
       "      <td>4</td>\n",
       "    </tr>\n",
       "    <tr>\n",
       "      <th>4</th>\n",
       "      <td>USW00094846</td>\n",
       "      <td>CHICAGO OHARE INTERNATIONAL AIRPORT, IL US</td>\n",
       "      <td>24</td>\n",
       "      <td>34</td>\n",
       "      <td>12</td>\n",
       "      <td>2022</td>\n",
       "      <td>1</td>\n",
       "      <td>5</td>\n",
       "    </tr>\n",
       "  </tbody>\n",
       "</table>\n",
       "</div>"
      ],
      "text/plain": [
       "       STATION                                        NAME  TAVG  TMAX  TMIN  \\\n",
       "0  USW00094846  CHICAGO OHARE INTERNATIONAL AIRPORT, IL US    36    38    24   \n",
       "1  USW00094846  CHICAGO OHARE INTERNATIONAL AIRPORT, IL US    24    28    13   \n",
       "2  USW00094846  CHICAGO OHARE INTERNATIONAL AIRPORT, IL US    15    22     9   \n",
       "3  USW00094846  CHICAGO OHARE INTERNATIONAL AIRPORT, IL US    26    35    22   \n",
       "4  USW00094846  CHICAGO OHARE INTERNATIONAL AIRPORT, IL US    24    34    12   \n",
       "\n",
       "   Year  Month  Day  \n",
       "0  2022      1    1  \n",
       "1  2022      1    2  \n",
       "2  2022      1    3  \n",
       "3  2022      1    4  \n",
       "4  2022      1    5  "
      ]
     },
     "execution_count": 28,
     "metadata": {},
     "output_type": "execute_result"
    }
   ],
   "source": [
    "print(mydf.dtypes)\n",
    "print(mydf.columns)\n",
    "print(mydf.shape)\n",
    "mydf.head()"
   ]
  },
  {
   "cell_type": "code",
   "execution_count": 29,
   "metadata": {},
   "outputs": [
    {
     "name": "stdout",
     "output_type": "stream",
     "text": [
      "(365, 8)\n"
     ]
    },
    {
     "data": {
      "text/plain": [
       "STATION    object\n",
       "NAME       object\n",
       "TAVG        int64\n",
       "TMAX        int64\n",
       "TMIN        int64\n",
       "Year        int64\n",
       "Month       int64\n",
       "Day         int64\n",
       "dtype: object"
      ]
     },
     "execution_count": 29,
     "metadata": {},
     "output_type": "execute_result"
    }
   ],
   "source": [
    "\n",
    "mydf.TMAX.astype(int)\n",
    "print(mydf.shape)\n",
    "mydf.dtypes"
   ]
  },
  {
   "cell_type": "markdown",
   "metadata": {},
   "source": [
    "### Sort the data as ascending year, month"
   ]
  },
  {
   "cell_type": "code",
   "execution_count": 30,
   "metadata": {},
   "outputs": [
    {
     "data": {
      "text/html": [
       "<div>\n",
       "<style scoped>\n",
       "    .dataframe tbody tr th:only-of-type {\n",
       "        vertical-align: middle;\n",
       "    }\n",
       "\n",
       "    .dataframe tbody tr th {\n",
       "        vertical-align: top;\n",
       "    }\n",
       "\n",
       "    .dataframe thead th {\n",
       "        text-align: right;\n",
       "    }\n",
       "</style>\n",
       "<table border=\"1\" class=\"dataframe\">\n",
       "  <thead>\n",
       "    <tr style=\"text-align: right;\">\n",
       "      <th></th>\n",
       "      <th>STATION</th>\n",
       "      <th>NAME</th>\n",
       "      <th>TAVG</th>\n",
       "      <th>TMAX</th>\n",
       "      <th>TMIN</th>\n",
       "      <th>Year</th>\n",
       "      <th>Month</th>\n",
       "      <th>Day</th>\n",
       "    </tr>\n",
       "  </thead>\n",
       "  <tbody>\n",
       "    <tr>\n",
       "      <th>0</th>\n",
       "      <td>USW00094846</td>\n",
       "      <td>CHICAGO OHARE INTERNATIONAL AIRPORT, IL US</td>\n",
       "      <td>36</td>\n",
       "      <td>38</td>\n",
       "      <td>24</td>\n",
       "      <td>2022</td>\n",
       "      <td>1</td>\n",
       "      <td>1</td>\n",
       "    </tr>\n",
       "    <tr>\n",
       "      <th>1</th>\n",
       "      <td>USW00094846</td>\n",
       "      <td>CHICAGO OHARE INTERNATIONAL AIRPORT, IL US</td>\n",
       "      <td>24</td>\n",
       "      <td>28</td>\n",
       "      <td>13</td>\n",
       "      <td>2022</td>\n",
       "      <td>1</td>\n",
       "      <td>2</td>\n",
       "    </tr>\n",
       "    <tr>\n",
       "      <th>2</th>\n",
       "      <td>USW00094846</td>\n",
       "      <td>CHICAGO OHARE INTERNATIONAL AIRPORT, IL US</td>\n",
       "      <td>15</td>\n",
       "      <td>22</td>\n",
       "      <td>9</td>\n",
       "      <td>2022</td>\n",
       "      <td>1</td>\n",
       "      <td>3</td>\n",
       "    </tr>\n",
       "    <tr>\n",
       "      <th>3</th>\n",
       "      <td>USW00094846</td>\n",
       "      <td>CHICAGO OHARE INTERNATIONAL AIRPORT, IL US</td>\n",
       "      <td>26</td>\n",
       "      <td>35</td>\n",
       "      <td>22</td>\n",
       "      <td>2022</td>\n",
       "      <td>1</td>\n",
       "      <td>4</td>\n",
       "    </tr>\n",
       "    <tr>\n",
       "      <th>4</th>\n",
       "      <td>USW00094846</td>\n",
       "      <td>CHICAGO OHARE INTERNATIONAL AIRPORT, IL US</td>\n",
       "      <td>24</td>\n",
       "      <td>34</td>\n",
       "      <td>12</td>\n",
       "      <td>2022</td>\n",
       "      <td>1</td>\n",
       "      <td>5</td>\n",
       "    </tr>\n",
       "    <tr>\n",
       "      <th>...</th>\n",
       "      <td>...</td>\n",
       "      <td>...</td>\n",
       "      <td>...</td>\n",
       "      <td>...</td>\n",
       "      <td>...</td>\n",
       "      <td>...</td>\n",
       "      <td>...</td>\n",
       "      <td>...</td>\n",
       "    </tr>\n",
       "    <tr>\n",
       "      <th>360</th>\n",
       "      <td>USW00094846</td>\n",
       "      <td>CHICAGO OHARE INTERNATIONAL AIRPORT, IL US</td>\n",
       "      <td>15</td>\n",
       "      <td>25</td>\n",
       "      <td>8</td>\n",
       "      <td>2022</td>\n",
       "      <td>12</td>\n",
       "      <td>27</td>\n",
       "    </tr>\n",
       "    <tr>\n",
       "      <th>361</th>\n",
       "      <td>USW00094846</td>\n",
       "      <td>CHICAGO OHARE INTERNATIONAL AIRPORT, IL US</td>\n",
       "      <td>31</td>\n",
       "      <td>45</td>\n",
       "      <td>25</td>\n",
       "      <td>2022</td>\n",
       "      <td>12</td>\n",
       "      <td>28</td>\n",
       "    </tr>\n",
       "    <tr>\n",
       "      <th>362</th>\n",
       "      <td>USW00094846</td>\n",
       "      <td>CHICAGO OHARE INTERNATIONAL AIRPORT, IL US</td>\n",
       "      <td>49</td>\n",
       "      <td>59</td>\n",
       "      <td>43</td>\n",
       "      <td>2022</td>\n",
       "      <td>12</td>\n",
       "      <td>29</td>\n",
       "    </tr>\n",
       "    <tr>\n",
       "      <th>363</th>\n",
       "      <td>USW00094846</td>\n",
       "      <td>CHICAGO OHARE INTERNATIONAL AIRPORT, IL US</td>\n",
       "      <td>48</td>\n",
       "      <td>57</td>\n",
       "      <td>30</td>\n",
       "      <td>2022</td>\n",
       "      <td>12</td>\n",
       "      <td>30</td>\n",
       "    </tr>\n",
       "    <tr>\n",
       "      <th>364</th>\n",
       "      <td>USW00094846</td>\n",
       "      <td>CHICAGO OHARE INTERNATIONAL AIRPORT, IL US</td>\n",
       "      <td>32</td>\n",
       "      <td>39</td>\n",
       "      <td>26</td>\n",
       "      <td>2022</td>\n",
       "      <td>12</td>\n",
       "      <td>31</td>\n",
       "    </tr>\n",
       "  </tbody>\n",
       "</table>\n",
       "<p>365 rows × 8 columns</p>\n",
       "</div>"
      ],
      "text/plain": [
       "         STATION                                        NAME  TAVG  TMAX  \\\n",
       "0    USW00094846  CHICAGO OHARE INTERNATIONAL AIRPORT, IL US    36    38   \n",
       "1    USW00094846  CHICAGO OHARE INTERNATIONAL AIRPORT, IL US    24    28   \n",
       "2    USW00094846  CHICAGO OHARE INTERNATIONAL AIRPORT, IL US    15    22   \n",
       "3    USW00094846  CHICAGO OHARE INTERNATIONAL AIRPORT, IL US    26    35   \n",
       "4    USW00094846  CHICAGO OHARE INTERNATIONAL AIRPORT, IL US    24    34   \n",
       "..           ...                                         ...   ...   ...   \n",
       "360  USW00094846  CHICAGO OHARE INTERNATIONAL AIRPORT, IL US    15    25   \n",
       "361  USW00094846  CHICAGO OHARE INTERNATIONAL AIRPORT, IL US    31    45   \n",
       "362  USW00094846  CHICAGO OHARE INTERNATIONAL AIRPORT, IL US    49    59   \n",
       "363  USW00094846  CHICAGO OHARE INTERNATIONAL AIRPORT, IL US    48    57   \n",
       "364  USW00094846  CHICAGO OHARE INTERNATIONAL AIRPORT, IL US    32    39   \n",
       "\n",
       "     TMIN  Year  Month  Day  \n",
       "0      24  2022      1    1  \n",
       "1      13  2022      1    2  \n",
       "2       9  2022      1    3  \n",
       "3      22  2022      1    4  \n",
       "4      12  2022      1    5  \n",
       "..    ...   ...    ...  ...  \n",
       "360     8  2022     12   27  \n",
       "361    25  2022     12   28  \n",
       "362    43  2022     12   29  \n",
       "363    30  2022     12   30  \n",
       "364    26  2022     12   31  \n",
       "\n",
       "[365 rows x 8 columns]"
      ]
     },
     "execution_count": 30,
     "metadata": {},
     "output_type": "execute_result"
    }
   ],
   "source": [
    "mydf.sort_values(['Year','Month'],ascending=True)"
   ]
  },
  {
   "cell_type": "markdown",
   "metadata": {},
   "source": [
    "### Extract maximum and minimum temparatures for the month"
   ]
  },
  {
   "cell_type": "code",
   "execution_count": 31,
   "metadata": {},
   "outputs": [],
   "source": [
    "months = np.arange(1,13,1)\n",
    "maxtemps = mydf.groupby('Month').TMAX.max()\n",
    "mintemps = mydf.groupby('Month').TMIN.min()"
   ]
  },
  {
   "cell_type": "markdown",
   "metadata": {},
   "source": [
    "### Plot the monthly temparature variation for the year"
   ]
  },
  {
   "cell_type": "code",
   "execution_count": 32,
   "metadata": {},
   "outputs": [
    {
     "data": {
      "image/png": "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",
      "text/plain": [
       "<Figure size 640x480 with 1 Axes>"
      ]
     },
     "metadata": {},
     "output_type": "display_data"
    }
   ],
   "source": [
    "plt.plot(months,maxtemps,'ro--',lw=1,label='Max Temps')\n",
    "plt.plot(months,mintemps,'bo--',lw=1,label='Min Temps')\n",
    "plt.title(Station_name)\n",
    "#plt.plot(months,maxtemps,'ro--',lw=1,label='Max Temps',drawstyle='steps-post')\n",
    "#plt.plot(months,mintemps,'bo--',lw=1,label='Min Temps',drawstyle='steps-post')\n",
    "#plt.title(Station_name)\n",
    "plt.xlabel('Monthly Temperatures for year '+year+' at '+station)\n",
    "plt.ylabel('Temparature in F')\n",
    "#plt.text(4,0,'Aurora,IL Monthly Temps for 2015',size=10,color='m')\n",
    "plt.legend(loc=2,fontsize=\"small\")\n",
    "#plt.axis([0,13,-20,100])\n",
    "#plt.xticks([0,1,2,3,4,5,6,7,8,9,10,11,12])\n",
    "#plt.xticks([0,1,2,3,4,5,6,7,8,9,10,11,12,13],[' ','JAN','FEB','MAR','APR','MAY','JUN',\n",
    "#'JUL','AUG','SEP','OCT','NOV','DEC',' '])\n",
    "plt.yticks([-20,-10,0,10,20,30,40,50,60,70,80,90,100])\n",
    "plt.grid(True)\n",
    "plt.show()"
   ]
  },
  {
   "cell_type": "markdown",
   "metadata": {},
   "source": [
    "### Create weather_data dataframe with monthly results."
   ]
  },
  {
   "cell_type": "code",
   "execution_count": 38,
   "metadata": {},
   "outputs": [
    {
     "name": "stdout",
     "output_type": "stream",
     "text": [
      "\n",
      "        Month  Max_Temp  Min_Temp\n",
      "Month                           \n",
      "1          1        44        -6\n",
      "2          2        55         4\n",
      "3          3        74        11\n",
      "4          4        84        29\n",
      "5          5        91        39\n",
      "6          6        99        52\n",
      "7          7        94        59\n",
      "8          8        95        58\n",
      "9          9        88        44\n",
      "10        10        79        33\n",
      "11        11        76        13\n",
      "12        12        59        -8\n"
     ]
    },
    {
     "data": {
      "text/plain": [
       "<Axes: title={'center': 'Monthly temparature Variations in year 2022'}, xlabel='Month', ylabel='Temparature in F'>"
      ]
     },
     "execution_count": 38,
     "metadata": {},
     "output_type": "execute_result"
    },
    {
     "data": {
      "image/png": "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",
      "text/plain": [
       "<Figure size 640x480 with 1 Axes>"
      ]
     },
     "metadata": {},
     "output_type": "display_data"
    }
   ],
   "source": [
    "weather_data = {\n",
    "    'Month' : months,\n",
    "    'Max_Temp' : maxtemps,\n",
    "    'Min_Temp' : mintemps\n",
    "}\n",
    "df = pd.DataFrame(weather_data)\n",
    "print('\\n',df)\n",
    "df.plot(title='Monthly temparature Variations in year ' + year, ylabel = 'Temparature in F',grid=True)"
   ]
  },
  {
   "cell_type": "code",
   "execution_count": 34,
   "metadata": {},
   "outputs": [
    {
     "name": "stdout",
     "output_type": "stream",
     "text": [
      "\n",
      " Month     1   2   3   4   5   6   7   8   9   10  11  12\n",
      "Month      1   2   3   4   5   6   7   8   9  10  11  12\n",
      "Max_Temp  44  55  74  84  91  99  94  95  88  79  76  59\n",
      "Min_Temp  -6   4  11  29  39  52  59  58  44  33  13  -8\n"
     ]
    }
   ],
   "source": [
    "df = df.T  # Transpose Index\n",
    "print('\\n',df)"
   ]
  },
  {
   "cell_type": "code",
   "execution_count": null,
   "metadata": {},
   "outputs": [],
   "source": []
  },
  {
   "cell_type": "code",
   "execution_count": null,
   "metadata": {},
   "outputs": [],
   "source": []
  }
 ],
 "metadata": {
  "kernelspec": {
   "display_name": "Python 3 (ipykernel)",
   "language": "python",
   "name": "python3"
  },
  "language_info": {
   "codemirror_mode": {
    "name": "ipython",
    "version": 3
   },
   "file_extension": ".py",
   "mimetype": "text/x-python",
   "name": "python",
   "nbconvert_exporter": "python",
   "pygments_lexer": "ipython3",
   "version": "3.9.7"
  }
 },
 "nbformat": 4,
 "nbformat_minor": 2
}
